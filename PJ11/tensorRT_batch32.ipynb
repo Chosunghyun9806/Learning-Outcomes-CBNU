{
 "cells": [
  {
   "cell_type": "code",
   "execution_count": 1,
   "id": "730660e0-2c94-4f08-a27f-dff12b80b77e",
   "metadata": {},
   "outputs": [
    {
     "name": "stdout",
     "output_type": "stream",
     "text": [
      "1.4.0\n"
     ]
    }
   ],
   "source": [
    "import multiprocessing as mp\n",
    "import os\n",
    "import numpy as np\n",
    "import pandas as pd\n",
    "import configparser\n",
    "import matplotlib.pyplot as plt\n",
    "import seaborn as sns\n",
    "import torch_tensorrt\n",
    "\n",
    "import torch\n",
    "import torch.nn as nn\n",
    "\n",
    "from torch.utils.data import Dataset\n",
    "from torchvision import datasets, models\n",
    "from torchvision.transforms import ToTensor, transforms\n",
    "from torchvision.io import read_image\n",
    "from torch.utils.data import DataLoader\n",
    "from torch_tensorrt import compile as tx_compile\n",
    "\n",
    "from glob import glob\n",
    "from PIL import Image\n",
    "from tqdm import tqdm\n",
    "\n",
    "print(torch_tensorrt.__version__)\n",
    "os.environ['CUDA_LAUNCH_BLOCKING'] = '1'\n",
    "os.environ[\"CUDA_VISIBLE_DEVICES\"] = \"0\"\n",
    "os.environ[\"TORCH_USE_CUDA_DSA\"] = '1'"
   ]
  },
  {
   "cell_type": "code",
   "execution_count": 2,
   "id": "dce6a572-5789-4ec3-9bb2-aa3f0e70ed94",
   "metadata": {},
   "outputs": [],
   "source": [
    "class CustomImageDataset(Dataset):\n",
    "    def __init__(self, img_dir, transform=None):\n",
    "        self.img_dir = glob(img_dir + \"/*.jpg\")\n",
    "        self.transform = transform\n",
    "\n",
    "    def __len__(self):\n",
    "        return len(self.img_dir)\n",
    "\n",
    "    def __getitem__(self, idx):\n",
    "        image = Image.open(self.img_dir[idx])\n",
    "        if self.transform:\n",
    "            image = self.transform(image)\n",
    "\n",
    "        return image"
   ]
  },
  {
   "cell_type": "code",
   "execution_count": 3,
   "id": "9a2bd505-a80a-4950-a9e9-839655b7f440",
   "metadata": {},
   "outputs": [],
   "source": [
    "config = configparser.ConfigParser()\n",
    "config.read('./config/config.ini')\n",
    "model_name = \"model_ch3_bottom2\"\n",
    "\n",
    "transform = transforms.Compose([\n",
    "    transforms.Resize(eval(dict(config[model_name])[\"transforms\"])[\"resize\"], interpolation=transforms.InterpolationMode.BICUBIC),\n",
    "    transforms.ToTensor(),\n",
    "    transforms.Normalize(mean=eval(dict(config[model_name])[\"transforms\"])[\"normalize\"][0],\n",
    "                         std=eval(dict(config[model_name])[\"transforms\"])[\"normalize\"][1]),\n",
    "])"
   ]
  },
  {
   "cell_type": "code",
   "execution_count": 4,
   "id": "7b98d159-697d-4d8b-8011-48909f1dff67",
   "metadata": {},
   "outputs": [],
   "source": [
    "test_data = CustomImageDataset(\"./img\", transform=transform)"
   ]
  },
  {
   "cell_type": "code",
   "execution_count": 5,
   "id": "bb974bf8-9a8f-4392-91e9-1baa08af9fbd",
   "metadata": {},
   "outputs": [],
   "source": [
    "test_dataloader = DataLoader(test_data, batch_size=32, shuffle=False, num_workers=4, pin_memory=True)"
   ]
  },
  {
   "cell_type": "code",
   "execution_count": 6,
   "id": "55f23d75-ba0e-414c-b9dc-737fdf7d3d50",
   "metadata": {},
   "outputs": [
    {
     "name": "stderr",
     "output_type": "stream",
     "text": [
      "100%|======================================================================================================================| 522/522 [06:53<00:00,  1.26batch/s]\n"
     ]
    }
   ],
   "source": [
    "idx_to_cls = eval(dict(config[model_name])[\"idx_to_cls\"])\n",
    "num_classes = int(dict(config[model_name])[\"num_classes\"])\n",
    "\n",
    "model = models.efficientnet_v2_l(weights=None)\n",
    "\n",
    "model.classifier[1] = nn.Linear(model.classifier[1].in_features, num_classes)\n",
    "check_point = torch.load(\"./model_ch3_bottom2.pth\")\n",
    "\n",
    "for key in list(check_point.keys()):\n",
    "    if \"module.\" in key:\n",
    "        check_point[key.replace(\"module.\", \"\")] = check_point[key]\n",
    "        del check_point[key]\n",
    "\n",
    "device = torch.device(\"cuda:0\" if torch.cuda.is_available() else \"cpu\")\n",
    "model.load_state_dict(check_point)\n",
    "model.to(device)\n",
    "model.eval()\n",
    "\n",
    "starter, ender = torch.cuda.Event(enable_timing=True), torch.cuda.Event(enable_timing=True)\n",
    "torch_timings=np.zeros((len(test_dataloader), 1))\n",
    "torch_list = []\n",
    "\n",
    "with torch.no_grad():\n",
    "    with tqdm(test_dataloader, ncols=160, ascii=\" =\", unit=\"batch\") as tepoch:\n",
    "        for i, inputs in enumerate(tepoch):\n",
    "            starter.record()\n",
    "            inputs = inputs.to(device)\n",
    "            outputs = model(inputs)\n",
    "            probabilities = torch.nn.functional.softmax(outputs, dim=1)\n",
    "            max_prob, predicted = torch.max(probabilities, 1)\n",
    "            torch_list.extend(predicted)\n",
    "            ender.record()\n",
    "            # WAIT FOR GPU SYNC\n",
    "            torch.cuda.synchronize()\n",
    "            curr_time = starter.elapsed_time(ender)\n",
    "            torch_timings[i] = curr_time"
   ]
  },
  {
   "cell_type": "code",
   "execution_count": 7,
   "id": "03d8aaba-acc4-48e8-9277-8026587bc357",
   "metadata": {},
   "outputs": [
    {
     "name": "stderr",
     "output_type": "stream",
     "text": [
      "WARNING: [Torch-TensorRT] - For input x.1, found user specified input dtype as Half, however when inspecting the graph, the input type expected was inferred to be Float\n",
      "The compiler is going to use the user setting Half\n",
      "This conflict may cause an error at runtime due to partial compilation being enabled and therefore\n",
      "compatibility with PyTorch's data type convention is required.\n",
      "If you do indeed see errors at runtime either:\n",
      "- Remove the dtype spec for x.1\n",
      "- Disable partial compilation by setting require_full_compilation to True\n",
      "WARNING: [Torch-TensorRT TorchScript Conversion Context] - TensorRT encountered issues when converting weights between types and that could affect accuracy.\n",
      "WARNING: [Torch-TensorRT TorchScript Conversion Context] - If this is not the desired behavior, please modify the weights or retrain with regularization to adjust the magnitude of the weights.\n",
      "WARNING: [Torch-TensorRT TorchScript Conversion Context] - Check verbose logs for the list of affected weights.\n",
      "WARNING: [Torch-TensorRT TorchScript Conversion Context] - - 383 weights are affected by this issue: Detected subnormal FP16 values.\n",
      "WARNING: [Torch-TensorRT TorchScript Conversion Context] - - 194 weights are affected by this issue: Detected values less than smallest positive FP16 subnormal value and converted them to the FP16 minimum subnormalized value.\n"
     ]
    },
    {
     "name": "stdout",
     "output_type": "stream",
     "text": [
      "run\n"
     ]
    },
    {
     "name": "stderr",
     "output_type": "stream",
     "text": [
      "100%|======================================================================================================================| 522/522 [01:42<00:00,  5.08batch/s]\n"
     ]
    }
   ],
   "source": [
    "compile_settings = {\n",
    "    \"inputs\": [torch_tensorrt.Input(\n",
    "        min_shape=[1, 3, 480, 480],\n",
    "        opt_shape=[32, 3, 480, 480],\n",
    "        max_shape=[64, 3, 480, 480],\n",
    "        # For static size shape=[1, 3, 224, 224]\n",
    "        dtype=torch.half, # Datatype of input tensor. Allowed options torch.(float|half|int8|int32|bool)\n",
    "    )],\n",
    "    \"enabled_precisions\": {torch.half}, # Run with FP16\n",
    "}\n",
    "\n",
    "trt_ts_module = tx_compile(model, **compile_settings)\n",
    "\n",
    "tensorrt_list = []\n",
    "\n",
    "starter, ender = torch.cuda.Event(enable_timing=True), torch.cuda.Event(enable_timing=True)\n",
    "tensorrt_timings=np.zeros((len(test_dataloader), 1))\n",
    "\n",
    "print(\"run\")\n",
    "\n",
    "with torch.no_grad():\n",
    "    with tqdm(test_dataloader, ncols=160, ascii=\" =\", unit=\"batch\") as tepoch:\n",
    "        for i, inputs in enumerate(tepoch):\n",
    "            starter.record()\n",
    "            inputs = inputs.to(device).half()\n",
    "            outputs = trt_ts_module(inputs)\n",
    "            probabilities = torch.nn.functional.softmax(outputs, dim=1)\n",
    "            max_prob, predicted = torch.max(probabilities, 1)\n",
    "            tensorrt_list.extend(predicted)\n",
    "            ender.record()\n",
    "            # WAIT FOR GPU SYNC\n",
    "            torch.cuda.synchronize()\n",
    "            curr_time = starter.elapsed_time(ender)\n",
    "            tensorrt_timings[i] = curr_time"
   ]
  },
  {
   "cell_type": "code",
   "execution_count": 51,
   "id": "862ab4f6-cb57-4b20-84ba-77f6b44b4cb2",
   "metadata": {},
   "outputs": [
    {
     "data": {
      "image/png": "[encoded data removed]",
      "text/plain": [
       "<Figure size 1200x500 with 2 Axes>"
      ]
     },
     "metadata": {},
     "output_type": "display_data"
    }
   ],
   "source": [
    "networks = ['torch', 'torch_tensorrt']\n",
    "values = [np.round(np.mean(torch_timings), 3), np.round(np.mean(tensorrt_timings), 3)]\n",
    "values2 = [(1000 / np.round(np.mean(torch_timings), 3)), (1000 / np.round(np.mean(tensorrt_timings), 3))]\n",
    "colors = sns.color_palette('hls',len(values))\n",
    "\n",
    "plt.figure(figsize=(12, 5))\n",
    "plt.subplot(121)\n",
    "plt.title(\"Network's Inference Time (batch/ms)\")\n",
    "ax = sns.barplot(x=networks, y=values, hue=networks, palette=colors)\n",
    "\n",
    "for p in ax.patches:\n",
    "    ax.text(p.get_x() + (p.get_width()/2) ,   # 가로 위치\n",
    "            p.get_y() + p.get_height() + 5,   # 세로 위치\n",
    "            f\"{p.get_height():.2f}\",     # 값 + 표시방법 소수 둘째자리까지 \n",
    "            ha = 'center' )   # 좌우정렬 중간으로\n",
    "\n",
    "plt.subplot(122)\n",
    "plt.title(\"batch/s\")\n",
    "ax2 = sns.barplot(x=networks, y=values2, hue=networks, palette=colors)\n",
    "\n",
    "for p in ax2.patches:\n",
    "    ax2.text(p.get_x() + (p.get_width()/2) ,   # 가로 위치\n",
    "            p.get_y() + p.get_height() + 0.05,   # 세로 위치\n",
    "            f\"{p.get_height():.2f}\",     # 값 + 표시방법 소수 둘째자리까지 \n",
    "            ha = 'center' )   # 좌우정렬 중간으로\n",
    "\n",
    "plt.show()"
   ]
  },
  {
   "cell_type": "code",
   "execution_count": 8,
   "id": "aabb40ff-f300-4cfb-8eec-c763a6517532",
   "metadata": {},
   "outputs": [
    {
     "data": {
      "text/plain": [
       "tensor(0)"
      ]
     },
     "execution_count": 8,
     "metadata": {},
     "output_type": "execute_result"
    }
   ],
   "source": [
    "(torch.tensor(torch_list) != torch.tensor(tensorrt_list)).sum()"
   ]
  },
  {
   "cell_type": "code",
   "execution_count": 9,
   "id": "2f66c1fb-71d0-43fb-b3b1-ac1975279862",
   "metadata": {},
   "outputs": [
    {
     "name": "stdout",
     "output_type": "stream",
     "text": [
      "PyTorch와 TensorRT 모델의 출력이 유사합니다.\n"
     ]
    }
   ],
   "source": [
    "# 두 출력 간의 유사성 확인\n",
    "if torch.allclose(torch.tensor(torch_list), torch.tensor(tensorrt_list), atol=1e-3):\n",
    "    print(\"PyTorch와 TensorRT 모델의 출력이 유사합니다.\")\n",
    "else:\n",
    "    print(\"PyTorch와 TensorRT 모델의 출력이 다릅니다.\")"
   ]
  },
  {
   "cell_type": "code",
   "execution_count": null,
   "id": "76809ad6-b6e5-4181-b903-978f2a30f3c6",
   "metadata": {},
   "outputs": [],
   "source": []
  }
 ],
 "metadata": {
  "kernelspec": {
   "display_name": "Python 3 (ipykernel)",
   "language": "python",
   "name": "python3"
  },
  "language_info": {
   "codemirror_mode": {
    "name": "ipython",
    "version": 3
   },
   "file_extension": ".py",
   "mimetype": "text/x-python",
   "name": "python",
   "nbconvert_exporter": "python",
   "pygments_lexer": "ipython3",
   "version": "3.8.19"
  }
 },
 "nbformat": 4,
 "nbformat_minor": 5
}
