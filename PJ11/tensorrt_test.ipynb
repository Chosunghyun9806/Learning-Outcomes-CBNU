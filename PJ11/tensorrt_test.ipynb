{
 "cells": [
  {
   "cell_type": "code",
   "execution_count": 1,
   "metadata": {},
   "outputs": [
    {
     "name": "stdout",
     "output_type": "stream",
     "text": [
      "1.4.0\n"
     ]
    }
   ],
   "source": [
    "import torch_tensorrt\n",
    "import multiprocessing as mp\n",
    "import os\n",
    "import numpy as np\n",
    "import configparser\n",
    "\n",
    "import torch\n",
    "import torchvision.transforms as transforms\n",
    "import torch.nn as nn\n",
    "import tqdm\n",
    "\n",
    "from torchvision import models\n",
    "from glob import glob\n",
    "\n",
    "from PIL import Image\n",
    "from tqdm import tqdm\n",
    "from torch_tensorrt import compile as tx_compile\n",
    "\n",
    "print(torch_tensorrt.__version__)"
   ]
  },
  {
   "cell_type": "code",
   "execution_count": 2,
   "metadata": {},
   "outputs": [
    {
     "name": "stderr",
     "output_type": "stream",
     "text": [
      "100%|==================================================================================================================| 16673/16673 [11:20<00:00, 24.50image/s]\n"
     ]
    }
   ],
   "source": [
    "config = configparser.ConfigParser()\n",
    "config.read('./config/config.ini')\n",
    "model_name = \"model_ch3_bottom2\"\n",
    "\n",
    "transform = transforms.Compose([\n",
    "    transforms.Resize(eval(dict(config[model_name])[\"transforms\"])[\"resize\"]),\n",
    "    transforms.ToTensor(),\n",
    "    transforms.Normalize(mean=eval(dict(config[model_name])[\"transforms\"])[\"normalize\"][0],\n",
    "                         std=eval(dict(config[model_name])[\"transforms\"])[\"normalize\"][1]),\n",
    "])\n",
    "idx_to_cls = eval(dict(config[model_name])[\"idx_to_cls\"])\n",
    "num_classes = int(dict(config[model_name])[\"num_classes\"])\n",
    "\n",
    "model = models.efficientnet_v2_l(weights=None)\n",
    "\n",
    "model.classifier[1] = nn.Linear(model.classifier[1].in_features, num_classes)\n",
    "check_point = torch.load(\"./model_ch3_bottom2.pth\")\n",
    "\n",
    "for key in list(check_point.keys()):\n",
    "    if \"module.\" in key:\n",
    "        check_point[key.replace(\"module.\", \"\")] = check_point[key]\n",
    "        del check_point[key]\n",
    "\n",
    "device = torch.device(\"cuda:0\" if torch.cuda.is_available() else \"cpu\")\n",
    "model.load_state_dict(check_point)\n",
    "model.to(device)\n",
    "model.eval()\n",
    "\n",
    "img_list = glob(\"./img/*.jpg\")\n",
    "torch_list = []\n",
    "\n",
    "starter, ender = torch.cuda.Event(enable_timing=True), torch.cuda.Event(enable_timing=True)\n",
    "torch_timings=np.zeros((len(img_list), 1))\n",
    "\n",
    "with torch.no_grad():\n",
    "    for i, image_path in enumerate(tqdm(img_list, ncols=160, ascii=\" =\", unit=\"image\")):\n",
    "        starter.record()\n",
    "        image = Image.open(image_path)\n",
    "        image = transform(image).unsqueeze(0).to(device)\n",
    "        outputs = model(image)\n",
    "        probabilities = torch.nn.functional.softmax(outputs, dim=1)\n",
    "        max_prob, predicted = torch.max(probabilities, 1)\n",
    "\n",
    "        torch_list.append(predicted.item())\n",
    "        ender.record()\n",
    "        # WAIT FOR GPU SYNC\n",
    "        torch.cuda.synchronize()\n",
    "        curr_time = starter.elapsed_time(ender)\n",
    "        torch_timings[i] = curr_time"
   ]
  },
  {
   "cell_type": "code",
   "execution_count": 3,
   "metadata": {},
   "outputs": [
    {
     "name": "stderr",
     "output_type": "stream",
     "text": [
      "WARNING: [Torch-TensorRT] - For input x.1, found user specified input dtype as Half, however when inspecting the graph, the input type expected was inferred to be Float\n",
      "The compiler is going to use the user setting Half\n",
      "This conflict may cause an error at runtime due to partial compilation being enabled and therefore\n",
      "compatibility with PyTorch's data type convention is required.\n",
      "If you do indeed see errors at runtime either:\n",
      "- Remove the dtype spec for x.1\n",
      "- Disable partial compilation by setting require_full_compilation to True\n",
      "WARNING: [Torch-TensorRT TorchScript Conversion Context] - TensorRT encountered issues when converting weights between types and that could affect accuracy.\n",
      "WARNING: [Torch-TensorRT TorchScript Conversion Context] - If this is not the desired behavior, please modify the weights or retrain with regularization to adjust the magnitude of the weights.\n",
      "WARNING: [Torch-TensorRT TorchScript Conversion Context] - Check verbose logs for the list of affected weights.\n",
      "WARNING: [Torch-TensorRT TorchScript Conversion Context] - - 383 weights are affected by this issue: Detected subnormal FP16 values.\n",
      "WARNING: [Torch-TensorRT TorchScript Conversion Context] - - 194 weights are affected by this issue: Detected values less than smallest positive FP16 subnormal value and converted them to the FP16 minimum subnormalized value.\n"
     ]
    },
    {
     "name": "stdout",
     "output_type": "stream",
     "text": [
      "run\n"
     ]
    },
    {
     "name": "stderr",
     "output_type": "stream",
     "text": [
      "100%|==================================================================================================================| 16673/16673 [05:22<00:00, 51.69image/s]\n"
     ]
    }
   ],
   "source": [
    "compile_settings = {\n",
    "    \"inputs\": [torch_tensorrt.Input(\n",
    "        shape=[1, 3, 480, 480],\n",
    "        # min_shape=[1, 3, 480, 480],\n",
    "        # opt_shape=[16, 3, 480, 480],\n",
    "        # max_shape=[32, 3, 480, 480],\n",
    "        # For static size shape=[1, 3, 224, 224]\n",
    "        dtype=torch.half, # Datatype of input tensor. Allowed options torch.(float|half|int8|int32|bool)\n",
    "    )],\n",
    "    \"enabled_precisions\": {torch.half}, # Run with FP16\n",
    "}\n",
    "\n",
    "trt_ts_module = tx_compile(model, **compile_settings)\n",
    "\n",
    "tensorrt_list = []\n",
    "\n",
    "starter, ender = torch.cuda.Event(enable_timing=True), torch.cuda.Event(enable_timing=True)\n",
    "tensorrt_timings=np.zeros((len(img_list), 1))\n",
    "\n",
    "print(\"run\")\n",
    "\n",
    "with torch.no_grad():\n",
    "    for i, image_path in enumerate(tqdm(img_list, ncols=160, ascii=\" =\", unit=\"image\")):\n",
    "        starter.record()\n",
    "        image = Image.open(image_path)\n",
    "        image = transform(image).unsqueeze(0).to(device).half()\n",
    "        outputs = trt_ts_module(image)\n",
    "        probabilities = torch.nn.functional.softmax(outputs, dim=1)\n",
    "        max_prob, predicted = torch.max(probabilities, 1)\n",
    "\n",
    "        tensorrt_list.append(predicted.item())\n",
    "        ender.record()\n",
    "        # WAIT FOR GPU SYNC\n",
    "        torch.cuda.synchronize()\n",
    "        curr_time = starter.elapsed_time(ender)\n",
    "        tensorrt_timings[i] = curr_time"
   ]
  },
  {
   "cell_type": "code",
   "execution_count": 4,
   "metadata": {},
   "outputs": [
    {
     "name": "stdout",
     "output_type": "stream",
     "text": [
      "PyTorch와 TensorRT 모델의 출력이 다릅니다.\n"
     ]
    }
   ],
   "source": [
    "# 두 출력 간의 유사성 확인\n",
    "if torch.allclose(torch.tensor(torch_list), torch.tensor(tensorrt_list), atol=1e-3):\n",
    "    print(\"PyTorch와 TensorRT 모델의 출력이 유사합니다.\")\n",
    "else:\n",
    "    print(\"PyTorch와 TensorRT 모델의 출력이 다릅니다.\")"
   ]
  },
  {
   "cell_type": "code",
   "execution_count": 5,
   "metadata": {},
   "outputs": [],
   "source": [
    "x = torch.tensor(torch_list)"
   ]
  },
  {
   "cell_type": "code",
   "execution_count": 6,
   "metadata": {},
   "outputs": [
    {
     "data": {
      "text/plain": [
       "tensor([0, 0, 1,  ..., 1, 1, 0])"
      ]
     },
     "execution_count": 6,
     "metadata": {},
     "output_type": "execute_result"
    }
   ],
   "source": [
    "x"
   ]
  },
  {
   "cell_type": "code",
   "execution_count": 7,
   "metadata": {},
   "outputs": [
    {
     "data": {
      "text/plain": [
       "tensor(1)"
      ]
     },
     "execution_count": 7,
     "metadata": {},
     "output_type": "execute_result"
    }
   ],
   "source": [
    "(torch.tensor(torch_list) != torch.tensor(tensorrt_list)).sum()"
   ]
  },
  {
   "cell_type": "code",
   "execution_count": 8,
   "metadata": {},
   "outputs": [
    {
     "data": {
      "text/plain": [
       "40.637"
      ]
     },
     "execution_count": 8,
     "metadata": {},
     "output_type": "execute_result"
    }
   ],
   "source": [
    "np.round(np.mean(torch_timings), 3)"
   ]
  },
  {
   "cell_type": "code",
   "execution_count": 9,
   "metadata": {},
   "outputs": [
    {
     "data": {
      "text/plain": [
       "19.223"
      ]
     },
     "execution_count": 9,
     "metadata": {},
     "output_type": "execute_result"
    }
   ],
   "source": [
    "np.round(np.mean(tensorrt_timings), 3)"
   ]
  },
  {
   "cell_type": "code",
   "execution_count": 10,
   "metadata": {},
   "outputs": [],
   "source": [
    "import matplotlib.pyplot as plt\n",
    "import seaborn as sns"
   ]
  },
  {
   "cell_type": "code",
   "execution_count": 11,
   "metadata": {},
   "outputs": [
    {
     "data": {
      "image/png": "[encoded data removed]",
      "text/plain": [
       "<Figure size 1200x500 with 2 Axes>"
      ]
     },
     "metadata": {},
     "output_type": "display_data"
    }
   ],
   "source": [
    "x = np.arange(3)\n",
    "years = ['torch', 'torch_tensorrt']\n",
    "values = [np.round(np.mean(torch_timings), 3), np.round(np.mean(tensorrt_timings), 3)]\n",
    "values2 = [(1000 / np.round(np.mean(torch_timings), 3)), (1000 / np.round(np.mean(tensorrt_timings), 3))]\n",
    "colors = sns.color_palette('hls',len(values))\n",
    "\n",
    "plt.figure(figsize=(12, 5))\n",
    "plt.subplot(121)\n",
    "plt.title(\"Network's Inference Time (ms)\")\n",
    "plt.bar(years, values, color=colors)\n",
    "\n",
    "plt.subplot(122)\n",
    "plt.title(\"FPS\")\n",
    "plt.bar(years, values2, color=colors)\n",
    "\n",
    "plt.show()"
   ]
  },
  {
   "cell_type": "code",
   "execution_count": null,
   "metadata": {},
   "outputs": [],
   "source": []
  }
 ],
 "metadata": {
  "kernelspec": {
   "display_name": "Python 3 (ipykernel)",
   "language": "python",
   "name": "python3"
  },
  "language_info": {
   "codemirror_mode": {
    "name": "ipython",
    "version": 3
   },
   "file_extension": ".py",
   "mimetype": "text/x-python",
   "name": "python",
   "nbconvert_exporter": "python",
   "pygments_lexer": "ipython3",
   "version": "3.8.19"
  }
 },
 "nbformat": 4,
 "nbformat_minor": 4
}
