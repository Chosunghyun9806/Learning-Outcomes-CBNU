{
 "cells": [
  {
   "cell_type": "code",
   "execution_count": 6,
   "id": "66fc99f6-e87a-4ef7-836f-5c4828025ca8",
   "metadata": {},
   "outputs": [],
   "source": [
    "import cv2\n",
    "import matplotlib.pyplot as plt"
   ]
  },
  {
   "cell_type": "code",
   "execution_count": 6,
   "id": "ea835221-f8ab-4beb-8d37-118f6a3c5413",
   "metadata": {},
   "outputs": [
    {
     "name": "stdout",
     "output_type": "stream",
     "text": [
      "D:/nsk/data/CH03/CH03imaeg_2\\04.images resize complete\n",
      "리사이징, 파일 이름 변경 및 기존 파일 삭제 완료!\n"
     ]
    }
   ],
   "source": [
    "import os\n",
    "import re\n",
    "from PIL import Image\n",
    "\n",
    "# 경로 설정\n",
    "base_dir = 'D:/nsk/data/CH03/CH03imaeg_2'\n",
    "output_size = (1280, 960)\n",
    "\n",
    "# 숫자를 추출하여 7자리로 패딩하는 함수\n",
    "def format_filename(filename):\n",
    "    # 숫자를 추출하는 정규식 패턴\n",
    "    match = re.search(r'(\\d+)', filename)\n",
    "    if match:\n",
    "        number = match.group(1)\n",
    "        formatted_number = number.zfill(7)\n",
    "        # 파일 확장자를 분리하고 새로운 파일 이름 생성\n",
    "        base_name, ext = os.path.splitext(filename)\n",
    "        return f'save_images_{formatted_number}{ext}'\n",
    "    return filename\n",
    "\n",
    "# base_dir 내의 모든 하위 디렉토리 가져오기\n",
    "batch_dirs = [item for item in os.listdir(base_dir) if os.path.isdir(os.path.join(base_dir, item))]\n",
    "\n",
    "# 디렉토리 처리\n",
    "for item in batch_dirs:\n",
    "    batch_dir = os.path.join(base_dir, item)\n",
    "    \n",
    "    # 디렉토리 내의 모든 파일에 대해 반복\n",
    "    jpg_files = [filename for filename in os.listdir(batch_dir) if filename.lower().endswith('.jpg')]\n",
    "    \n",
    "    for filename in jpg_files:\n",
    "        file_path = os.path.join(batch_dir, filename)\n",
    "        \n",
    "        # 새로운 파일 이름 생성\n",
    "        new_filename = 'new_' + format_filename(filename)\n",
    "        new_file_path = os.path.join(batch_dir, new_filename)\n",
    "        \n",
    "        # 이미지 열기 및 리사이징\n",
    "        with Image.open(file_path) as img:\n",
    "            resized_img = img.resize(output_size, Image.LANCZOS)\n",
    "            \n",
    "            # 리사이즈된 이미지 저장\n",
    "            resized_img.save(new_file_path)\n",
    "        \n",
    "        # 기존 파일 삭제\n",
    "        if file_path != new_file_path:\n",
    "            os.remove(file_path)\n",
    "\n",
    "    print(f\"{batch_dir} resize complete\")\n",
    "\n",
    "print(\"리사이징, 파일 이름 변경 및 기존 파일 삭제 완료!\")"
   ]
  },
  {
   "cell_type": "code",
   "execution_count": null,
   "id": "b9734449-8b7f-4fec-8af4-42604c2fedf8",
   "metadata": {},
   "outputs": [],
   "source": []
  }
 ],
 "metadata": {
  "kernelspec": {
   "display_name": "Python 3 (ipykernel)",
   "language": "python",
   "name": "python3"
  },
  "language_info": {
   "codemirror_mode": {
    "name": "ipython",
    "version": 3
   },
   "file_extension": ".py",
   "mimetype": "text/x-python",
   "name": "python",
   "nbconvert_exporter": "python",
   "pygments_lexer": "ipython3",
   "version": "3.8.19"
  }
 },
 "nbformat": 4,
 "nbformat_minor": 5
}
