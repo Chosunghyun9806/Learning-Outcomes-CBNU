{
 "cells": [
  {
   "cell_type": "code",
   "execution_count": 2,
   "id": "4ff63af3-56a6-4ac4-910c-79f01f523282",
   "metadata": {},
   "outputs": [
    {
     "name": "stdout",
     "output_type": "stream",
     "text": [
      "파일 복사가 완료되었습니다.\n"
     ]
    }
   ],
   "source": [
    "import os\n",
    "import shutil\n",
    "from sklearn.model_selection import train_test_split\n",
    "\n",
    "# 디렉토리 경로 설정\n",
    "label_dir = r\"D:\\Data\\CH03\\CH03_data\\labels\\train\"\n",
    "image_dir = r\"D:\\Data\\CH03\\CH03_data\\CH03_train\"\n",
    "output_base_dir = r\"D:\\Data\\CH03\\CH03_data\\train_data\\data\"\n",
    "\n",
    "# 이미지 파일 확장자 설정\n",
    "image_extension = \".jpg\"\n",
    "\n",
    "# 라벨 파일 리스트 가져오기\n",
    "label_files = [f for f in os.listdir(label_dir) if f.endswith('.txt')]\n",
    "\n",
    "# 7:2:1 비율로 train, val, test 분할\n",
    "train_files, temp_files = train_test_split(label_files, test_size=0.25, random_state=42)\n",
    "val_files, test_files = train_test_split(temp_files, test_size=1/3, random_state=42)\n",
    "\n",
    "# 복사 함수 정의\n",
    "def copy_files(label_files, dataset_type):\n",
    "    # 디렉토리 생성\n",
    "    dataset_dir = os.path.join(output_base_dir, dataset_type)\n",
    "    labels_dir = os.path.join(dataset_dir, 'labels')\n",
    "    images_dir = os.path.join(dataset_dir, 'images')\n",
    "    \n",
    "    os.makedirs(labels_dir, exist_ok=True)\n",
    "    os.makedirs(images_dir, exist_ok=True)\n",
    "\n",
    "    # 파일 복사\n",
    "    for label_file in label_files:\n",
    "        # 라벨 파일 복사\n",
    "        label_src = os.path.join(label_dir, label_file)\n",
    "        label_dst = os.path.join(labels_dir, label_file)\n",
    "        shutil.copy(label_src, label_dst)\n",
    "        \n",
    "        # 이미지 파일 복사\n",
    "        image_file = os.path.splitext(label_file)[0] + image_extension\n",
    "        image_src = os.path.join(image_dir, image_file)\n",
    "        image_dst = os.path.join(images_dir, image_file)\n",
    "        \n",
    "        if os.path.exists(image_src):\n",
    "            shutil.copy(image_src, image_dst)\n",
    "        else:\n",
    "            print(f\"이미지 파일이 없습니다: {image_src}\")\n",
    "\n",
    "# train, val, test 각각 파일 복사\n",
    "copy_files(train_files, 'train')\n",
    "copy_files(val_files, 'val')\n",
    "copy_files(test_files, 'test')\n",
    "\n",
    "print(\"파일 복사가 완료되었습니다.\")\n"
   ]
  },
  {
   "cell_type": "code",
   "execution_count": 3,
   "id": "23fb2edc-caf0-48f2-bfde-ff4eff01f198",
   "metadata": {},
   "outputs": [
    {
     "name": "stdout",
     "output_type": "stream",
     "text": [
      "중복되지 않는 파일 복사가 완료되었습니다.\n"
     ]
    }
   ],
   "source": [
    "import os\n",
    "import shutil\n",
    "\n",
    "# 디렉토리 경로 설정\n",
    "data_dir = r\"D:\\Data\\CH03\\CH03_data\\train_data\\data\"\n",
    "image_origin_dir = r\"D:\\Data\\CH03\\CH03_data\\image_origin\"\n",
    "nonover_dir = r\"D:\\Data\\CH03\\CH03_data\\nonover\"\n",
    "\n",
    "# nonover 디렉토리 생성\n",
    "os.makedirs(nonover_dir, exist_ok=True)\n",
    "\n",
    "# 모든 하위 디렉토리에서 jpg 파일 이름 읽기\n",
    "data_images = set()\n",
    "for root, dirs, files in os.walk(data_dir):\n",
    "    for file in files:\n",
    "        if file.endswith(\".jpg\"):\n",
    "            data_images.add(file)\n",
    "\n",
    "# image_origin 디렉토리에서 중복되지 않는 파일만 복사\n",
    "for file in os.listdir(image_origin_dir):\n",
    "    if file.endswith(\".jpg\") and file not in data_images:\n",
    "        src_path = os.path.join(image_origin_dir, file)\n",
    "        dst_path = os.path.join(nonover_dir, file)\n",
    "        shutil.copy(src_path, dst_path)\n",
    "\n",
    "print(\"중복되지 않는 파일 복사가 완료되었습니다.\")\n"
   ]
  },
  {
   "cell_type": "code",
   "execution_count": null,
   "id": "47cab20f-a132-45f9-97d2-918954d04dd9",
   "metadata": {},
   "outputs": [],
   "source": []
  }
 ],
 "metadata": {
  "kernelspec": {
   "display_name": "Python 3 (ipykernel)",
   "language": "python",
   "name": "python3"
  },
  "language_info": {
   "codemirror_mode": {
    "name": "ipython",
    "version": 3
   },
   "file_extension": ".py",
   "mimetype": "text/x-python",
   "name": "python",
   "nbconvert_exporter": "python",
   "pygments_lexer": "ipython3",
   "version": "3.8.19"
  }
 },
 "nbformat": 4,
 "nbformat_minor": 5
}
